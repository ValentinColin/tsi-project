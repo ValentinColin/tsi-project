{
 "cells": [
  {
   "cell_type": "code",
   "execution_count": 2,
   "id": "10ae7cfc-3159-4a89-8206-8bcc02116719",
   "metadata": {
    "tags": []
   },
   "outputs": [],
   "source": [
    "from transformers import AutoModelForSequenceClassification\n",
    "from transformers import TFAutoModelForSequenceClassification\n",
    "from transformers import AutoTokenizer\n",
    "import numpy as np\n",
    "from scipy.special import softmax\n",
    "import csv\n",
    "import urllib.request\n",
    "import shutil\n"
   ]
  },
  {
   "cell_type": "markdown",
   "id": "8b6e71f9-0eeb-4dec-b034-cea216478f50",
   "metadata": {
    "tags": []
   },
   "source": [
    "# First Launch Only"
   ]
  },
  {
   "cell_type": "code",
   "execution_count": 3,
   "id": "c87516a0-535f-48c3-a655-ff25cec3c491",
   "metadata": {
    "tags": []
   },
   "outputs": [
    {
     "name": "stdout",
     "output_type": "stream",
     "text": [
      "emoji\n",
      "emotion\n",
      "hate\n",
      "irony\n",
      "offensive\n",
      "sentiment\n",
      "sentiment-latest\n"
     ]
    }
   ],
   "source": [
    "for task in tasks:\n",
    "    \"\"\" To get all the models and save it locally if no models is find\"\"\"\n",
    "    print(task)\n",
    "    MODEL = f\"cardiffnlp/twitter-roberta-base-{task}\"\n",
    "\n",
    "    tokenizer = AutoTokenizer.from_pretrained(MODEL)\n",
    "    model = AutoModelForSequenceClassification.from_pretrained(MODEL)\n",
    "\n",
    "    tokenizer.save_pretrained(MODEL)\n",
    "    model.save_pretrained(MODEL)"
   ]
  },
  {
   "cell_type": "code",
   "execution_count": 4,
   "id": "47d201cf-9fe1-4514-9e2d-8fe4564f5d5b",
   "metadata": {
    "tags": []
   },
   "outputs": [],
   "source": [
    "try:\n",
    "    for task in tasks:\n",
    "        \"\"\" To get all the mapping.txt and save it locally, erase the last one\"\"\"\n",
    "        file_name = f\"cardiffnlp/twitter-roberta-base-{task}/mapping.txt\"\n",
    "        mapping_link = f\"https://raw.githubusercontent.com/cardiffnlp/tweeteval/main/datasets/{task}/mapping.txt\"\n",
    "\n",
    "        with urllib.request.urlopen(mapping_link) as response, open(file_name, 'wb') as out_file:\n",
    "            shutil.copyfileobj(response, out_file)\n",
    "except:\n",
    "    pass"
   ]
  }
 ],
 "metadata": {
  "kernelspec": {
   "display_name": "Python 3 (ipykernel)",
   "language": "python",
   "name": "python3"
  },
  "language_info": {
   "codemirror_mode": {
    "name": "ipython",
    "version": 3
   },
   "file_extension": ".py",
   "mimetype": "text/x-python",
   "name": "python",
   "nbconvert_exporter": "python",
   "pygments_lexer": "ipython3",
   "version": "3.8.9"
  }
 },
 "nbformat": 4,
 "nbformat_minor": 5
}
