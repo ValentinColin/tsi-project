{
 "cells": [
  {
   "cell_type": "code",
   "execution_count": 1,
   "id": "fce123e9-d16f-4509-b454-925da6e0b7fd",
   "metadata": {},
   "outputs": [
    {
     "name": "stderr",
     "output_type": "stream",
     "text": [
      "\n",
      "KeyboardInterrupt\n",
      "\n"
     ]
    }
   ],
   "source": [
    "import snscrape.modules.twitter as sntwitter\n",
    "import pandas as pd\n",
    "\n",
    "query = \"(from:elonmusk) until:2020-01-01 since:2010-01-01\"\n",
    "tweets = []\n",
    "limit = 5000\n",
    "\n",
    "\n",
    "for tweet in sntwitter.TwitterSearchScraper(query).get_items():\n",
    "    \n",
    "    # print(vars(tweet))\n",
    "    # break\n",
    "    if len(tweets) == limit:\n",
    "        break\n",
    "    else:\n",
    "        tweets.append([tweet.date, tweet.user.username, tweet.user.username])\n",
    "        \n",
    "df = pd.DataFrame(tweets, columns=['Date', 'User', 'Tweet'])\n",
    "print(df)\n",
    "\n",
    "# to save to csv\n",
    "# df.to_csv('tweets.csv')"
   ]
  },
  {
   "cell_type": "code",
   "execution_count": 2,
   "id": "ebb628e5-6265-4bdf-af86-cac3f753ab48",
   "metadata": {
    "tags": []
   },
   "outputs": [],
   "source": [
    "import snscrape.modules.twitter as sntwitter\n",
    "import pandas as pd"
   ]
  },
  {
   "cell_type": "code",
   "execution_count": 3,
   "id": "430f4c82-c6f2-4b8f-877c-84592c403408",
   "metadata": {
    "tags": []
   },
   "outputs": [],
   "source": [
    "scraper = sntwitter.TwitterSearchScraper(\"#python\")"
   ]
  },
  {
   "cell_type": "code",
   "execution_count": 4,
   "id": "819609d1-fc29-4746-b5e1-27a9360b1ac3",
   "metadata": {
    "tags": []
   },
   "outputs": [
    {
     "data": {
      "text/plain": [
       "<snscrape.modules.twitter.TwitterSearchScraper at 0x1de13fb8340>"
      ]
     },
     "execution_count": 4,
     "metadata": {},
     "output_type": "execute_result"
    }
   ],
   "source": [
    "scraper"
   ]
  },
  {
   "cell_type": "code",
   "execution_count": 5,
   "id": "d464cfa7-d8d3-4438-ac4a-3a568c02ec87",
   "metadata": {
    "tags": []
   },
   "outputs": [],
   "source": [
    "for tweet in scraper.get_items():\n",
    "    break"
   ]
  },
  {
   "cell_type": "code",
   "execution_count": 19,
   "id": "ea588323-f94e-4d8d-95df-7b30e10f358a",
   "metadata": {
    "tags": []
   },
   "outputs": [],
   "source": [
    "query = \"(from:ZemmourEric) until:2023-03-08 since:2022-01-01\"\n",
    "tweets = []\n",
    "limit = 1\n"
   ]
  },
  {
   "cell_type": "code",
   "execution_count": 29,
   "id": "f448e3e1-c531-42c0-8973-9d95b6a61226",
   "metadata": {
    "tags": []
   },
   "outputs": [],
   "source": [
    "for tweet in sntwitter.TwitterSearchScraper(query).get_items():\n",
    "    if len(tweets) == limit:\n",
    "        break\n",
    "    else:\n",
    "        tweets.append([tweet.date, tweet.user.username, tweet.rawContent])"
   ]
  },
  {
   "cell_type": "code",
   "execution_count": 23,
   "id": "001a1317-9246-4c2f-8f97-bee4c1b3c67e",
   "metadata": {
    "tags": []
   },
   "outputs": [
    {
     "name": "stdout",
     "output_type": "stream",
     "text": [
      "{'url': 'https://twitter.com/ZemmourEric/status/1632757985838608389', 'date': datetime.datetime(2023, 3, 6, 15, 0, 13, tzinfo=datetime.timezone.utc), 'rawContent': 'Demain, les ZFE excluront des agglomérations des millions de Français qui ne pourront plus aller travailler ou aller chez le médecin.\\n\\nPartout en France, @Reconquete_off se mobilise depuis plusieurs mois pour défendre les Français contre ce véritable scandale social.\\n\\n#NONauxZFE https://t.co/kk4X2rTsPP', 'renderedContent': 'Demain, les ZFE excluront des agglomérations des millions de Français qui ne pourront plus aller travailler ou aller chez le médecin.\\n\\nPartout en France, @Reconquete_off se mobilise depuis plusieurs mois pour défendre les Français contre ce véritable scandale social.\\n\\n#NONauxZFE https://t.co/kk4X2rTsPP', 'id': 1632757985838608389, 'user': User(username='ZemmourEric', id=1183418538285027329, displayname='Eric Zemmour', rawDescription='Président de @Reconquete_off', renderedDescription='Président de @Reconquete_off', descriptionLinks=None, verified=True, created=datetime.datetime(2019, 10, 13, 16, 26, 30, tzinfo=datetime.timezone.utc), followersCount=400789, friendsCount=73, statusesCount=8326, favouritesCount=694, listedCount=1356, mediaCount=3974, location='France', protected=False, link=TextLink(text='ericzemmour.fr', url='https://www.ericzemmour.fr/', tcourl='https://t.co/Nc3EgKoJ2w', indices=(0, 23)), profileImageUrl='https://pbs.twimg.com/profile_images/1524713619061157889/kq4m3a1x_normal.jpg', profileBannerUrl='https://pbs.twimg.com/profile_banners/1183418538285027329/1660836111', label=None), 'replyCount': 112, 'retweetCount': 1134, 'likeCount': 2649, 'quoteCount': 28, 'conversationId': 1632757985838608389, 'lang': 'fr', 'source': '<a href=\"http://twitter.com/download/iphone\" rel=\"nofollow\">Twitter for iPhone</a>', 'sourceUrl': 'http://twitter.com/download/iphone', 'sourceLabel': 'Twitter for iPhone', 'links': None, 'media': [Photo(previewUrl='https://pbs.twimg.com/media/Fqi4u6RWIAAiizK?format=jpg&name=small', fullUrl='https://pbs.twimg.com/media/Fqi4u6RWIAAiizK?format=jpg&name=orig', altText=None), Photo(previewUrl='https://pbs.twimg.com/media/Fqi4u6SWAAY_0c9?format=jpg&name=small', fullUrl='https://pbs.twimg.com/media/Fqi4u6SWAAY_0c9?format=jpg&name=orig', altText=None), Photo(previewUrl='https://pbs.twimg.com/media/Fqi4u7cWYAMwQDg?format=jpg&name=small', fullUrl='https://pbs.twimg.com/media/Fqi4u7cWYAMwQDg?format=jpg&name=orig', altText=None), Photo(previewUrl='https://pbs.twimg.com/media/Fqi4u6RXwAE-uwQ?format=jpg&name=small', fullUrl='https://pbs.twimg.com/media/Fqi4u6RXwAE-uwQ?format=jpg&name=orig', altText=None)], 'retweetedTweet': None, 'quotedTweet': None, 'inReplyToTweetId': None, 'inReplyToUser': None, 'mentionedUsers': [User(username='Reconquete_off', id=1466151854425923585, displayname='RECONQUÊTE !', rawDescription=None, renderedDescription=None, descriptionLinks=None, verified=None, created=None, followersCount=None, friendsCount=None, statusesCount=None, favouritesCount=None, listedCount=None, mediaCount=None, location=None, protected=None, link=None, profileImageUrl=None, profileBannerUrl=None, label=None)], 'coordinates': None, 'place': None, 'hashtags': ['NONauxZFE'], 'cashtags': None, 'card': None, 'viewCount': 104844, 'vibe': None}\n"
     ]
    }
   ],
   "source": [
    "print(vars(tweet))"
   ]
  },
  {
   "cell_type": "code",
   "execution_count": 17,
   "id": "95008012-a0e0-4726-afa9-2aa69696f6f3",
   "metadata": {
    "tags": []
   },
   "outputs": [
    {
     "name": "stdout",
     "output_type": "stream",
     "text": [
      "Demain, les ZFE excluront des agglomérations des millions de Français qui ne pourront plus aller travailler ou aller chez le médecin.\n",
      "\n",
      "Partout en France, @Reconquete_off se mobilise depuis plusieurs mois pour défendre les Français contre ce véritable scandale social.\n",
      "\n",
      "#NONauxZFE https://t.co/kk4X2rTsPP\n",
      "Merci à @Causeur de mettre en lumière témoignages de nos Parents Vigilants. Continuez de nous faire savoir ce qu'il se passe dans l'école de vos enfants : https://t.co/Q2765cq6As\n",
      "\n",
      "#ProtegeonsNosEnfants\n",
      "Mettre l'économie à genoux, c'est détruire le travail, c'est détruire le pays. C'est leur objectif. Et ils n'en ont même pas honte.\n",
      "\n",
      "https://t.co/7GrgoiZrdA\n",
      "Quelle tristesse de voir ces religieuses catholiques obligées de quitter Nantes face à l’insécurité qui règne en ville.\n",
      "\n",
      "Les incivilités, les trafics et les violences sont les meilleurs outils du Grand Remplacement. https://t.co/9SKSRFnO5r\n",
      "🗞️ Retrouvez dès maintenant mon entretien dans @Causeur : https://t.co/vS4ynx4xwE https://t.co/1vO1h8NKbl\n",
      "Bravo à eux. Le dialogue entre les jeunes de droite est la première étape avant l’union des droites.\n",
      "@MagLincorrect https://t.co/Oj1ysohqBX\n",
      "Depuis des décennies, la gauche a pris l’habitude d’endoctriner nos enfants sans la moindre opposition, alors forcément, quand on se met en travers de sa route, elle hurle. Il va falloir qu’elle s’y habitue !\n",
      "\n",
      "🗞️ Lisez mon entretien dans @Causeur : https://t.co/vS4ynx4xwE https://t.co/QdAChoHzIb\n",
      "Vous faites vivre nos traditions et notre culture gastronomique ! Vous êtes l’avenir de la France !\n",
      "\n",
      "#SIA2023 #Salondelagriculture https://t.co/wQxhVIrCne\n",
      "À la France et au monde paysan ! 🇫🇷\n",
      "\n",
      "#SIA2023 #Salondelagriculture https://t.co/t29CKO8d0K\n",
      "L’agriculture subit nos folies idéologiques : l’Europe veut être le continent le plus écolo du monde et la France le pays le plus écolo d’Europe… Je ne suis pas un idéologue. Je crois en la science, au progrès technique et à la technologie au service de notre agriculture ! https://t.co/lzs8fguS2f\n"
     ]
    }
   ],
   "source": [
    "        \n",
    "df = pd.DataFrame(tweets, columns=['Date', 'User', 'Tweet'])\n",
    "df\n",
    "for tweet in df['Tweet']:\n",
    "    print(tweet)"
   ]
  }
 ],
 "metadata": {
  "kernelspec": {
   "display_name": "Python 3 (ipykernel)",
   "language": "python",
   "name": "python3"
  },
  "language_info": {
   "codemirror_mode": {
    "name": "ipython",
    "version": 3
   },
   "file_extension": ".py",
   "mimetype": "text/x-python",
   "name": "python",
   "nbconvert_exporter": "python",
   "pygments_lexer": "ipython3",
   "version": "3.8.9"
  }
 },
 "nbformat": 4,
 "nbformat_minor": 5
}
