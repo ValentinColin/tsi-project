{
 "cells": [
  {
   "cell_type": "code",
   "execution_count": 19,
   "id": "fe23f32d-f737-4f7e-8a15-7065fea3c8ae",
   "metadata": {
    "tags": []
   },
   "outputs": [],
   "source": [
    "import requests"
   ]
  },
  {
   "cell_type": "code",
   "execution_count": 22,
   "id": "bf359987-b9a9-4a22-aeda-346a5f9759a4",
   "metadata": {
    "tags": []
   },
   "outputs": [],
   "source": [
    "API_URL = \"https://datasets-server.huggingface.co\"\n",
    "DATASET = \"tweet_eval\""
   ]
  },
  {
   "cell_type": "code",
   "execution_count": 21,
   "id": "6967ac7e-9088-4d76-abff-74a8661a9055",
   "metadata": {
    "tags": []
   },
   "outputs": [],
   "source": [
    "def query(endpoints):\n",
    "    response = requests.request(\"GET\", f\"{API_URL}/{endpoints}\")\n",
    "    return response.json()"
   ]
  },
  {
   "cell_type": "code",
   "execution_count": 29,
   "id": "3b5c8760-4cea-4b45-822e-69445e742ecb",
   "metadata": {
    "tags": []
   },
   "outputs": [
    {
     "name": "stdout",
     "output_type": "stream",
     "text": [
      "{'dataset': 'tweet_eval', 'config': 'emoji', 'split': 'train'}\n",
      "{'dataset': 'tweet_eval', 'config': 'emoji', 'split': 'test'}\n",
      "{'dataset': 'tweet_eval', 'config': 'emoji', 'split': 'validation'}\n",
      "{'dataset': 'tweet_eval', 'config': 'emotion', 'split': 'train'}\n",
      "{'dataset': 'tweet_eval', 'config': 'emotion', 'split': 'test'}\n",
      "{'dataset': 'tweet_eval', 'config': 'emotion', 'split': 'validation'}\n",
      "{'dataset': 'tweet_eval', 'config': 'hate', 'split': 'train'}\n",
      "{'dataset': 'tweet_eval', 'config': 'hate', 'split': 'test'}\n",
      "{'dataset': 'tweet_eval', 'config': 'hate', 'split': 'validation'}\n",
      "{'dataset': 'tweet_eval', 'config': 'irony', 'split': 'train'}\n",
      "{'dataset': 'tweet_eval', 'config': 'irony', 'split': 'test'}\n",
      "{'dataset': 'tweet_eval', 'config': 'irony', 'split': 'validation'}\n",
      "{'dataset': 'tweet_eval', 'config': 'offensive', 'split': 'train'}\n",
      "{'dataset': 'tweet_eval', 'config': 'offensive', 'split': 'test'}\n",
      "{'dataset': 'tweet_eval', 'config': 'offensive', 'split': 'validation'}\n",
      "{'dataset': 'tweet_eval', 'config': 'sentiment', 'split': 'train'}\n",
      "{'dataset': 'tweet_eval', 'config': 'sentiment', 'split': 'test'}\n",
      "{'dataset': 'tweet_eval', 'config': 'sentiment', 'split': 'validation'}\n",
      "{'dataset': 'tweet_eval', 'config': 'stance_abortion', 'split': 'train'}\n",
      "{'dataset': 'tweet_eval', 'config': 'stance_abortion', 'split': 'test'}\n",
      "{'dataset': 'tweet_eval', 'config': 'stance_abortion', 'split': 'validation'}\n",
      "{'dataset': 'tweet_eval', 'config': 'stance_atheism', 'split': 'train'}\n",
      "{'dataset': 'tweet_eval', 'config': 'stance_atheism', 'split': 'test'}\n",
      "{'dataset': 'tweet_eval', 'config': 'stance_atheism', 'split': 'validation'}\n",
      "{'dataset': 'tweet_eval', 'config': 'stance_climate', 'split': 'train'}\n",
      "{'dataset': 'tweet_eval', 'config': 'stance_climate', 'split': 'test'}\n",
      "{'dataset': 'tweet_eval', 'config': 'stance_climate', 'split': 'validation'}\n",
      "{'dataset': 'tweet_eval', 'config': 'stance_feminist', 'split': 'train'}\n",
      "{'dataset': 'tweet_eval', 'config': 'stance_feminist', 'split': 'test'}\n",
      "{'dataset': 'tweet_eval', 'config': 'stance_feminist', 'split': 'validation'}\n",
      "{'dataset': 'tweet_eval', 'config': 'stance_hillary', 'split': 'train'}\n",
      "{'dataset': 'tweet_eval', 'config': 'stance_hillary', 'split': 'test'}\n",
      "{'dataset': 'tweet_eval', 'config': 'stance_hillary', 'split': 'validation'}\n"
     ]
    }
   ],
   "source": [
    "split_url = f\"splits?dataset={DATASET}\"\n",
    "response = query(split_url)\n",
    "for data_set in response[\"splits\"]:\n",
    "    print(data_set)"
   ]
  },
  {
   "cell_type": "code",
   "execution_count": 37,
   "id": "3744603e-54b5-4bb7-9e80-559f4f3db16e",
   "metadata": {
    "tags": []
   },
   "outputs": [
    {
     "name": "stdout",
     "output_type": "stream",
     "text": [
      "{'row_idx': 0, 'row': {'text': \"@user @user what do these '1/2 naked pics' have to do with anything? They're not even like that.\", 'label': 1}, 'truncated_cells': []}\n",
      "{'row_idx': 1, 'row': {'text': 'OH: “I had a blue penis while I was this” [playing with Google Earth VR]', 'label': 1}, 'truncated_cells': []}\n",
      "{'row_idx': 2, 'row': {'text': \"@user @user That's coming, but I think the victims are going to be Medicaid recipients.\", 'label': 1}, 'truncated_cells': []}\n",
      "{'row_idx': 3, 'row': {'text': 'I think I may be finally in with the in crowd #mannequinchallenge  #grads2014 @user', 'label': 2}, 'truncated_cells': []}\n",
      "{'row_idx': 4, 'row': {'text': '@user Wow,first Hugo Chavez and now Fidel Castro. Danny Glover, Michael Moore, Oliver Stone, and Sean Penn are running out of heroes.', 'label': 0}, 'truncated_cells': []}\n",
      "{'row_idx': 5, 'row': {'text': 'Savchenko now Saakashvili took drug test live on Ukraine TV. To prove they are not drug-fueled loonies?', 'label': 1}, 'truncated_cells': []}\n",
      "{'row_idx': 6, 'row': {'text': 'How many more days until opening day? 😩', 'label': 1}, 'truncated_cells': []}\n",
      "{'row_idx': 7, 'row': {'text': \"Twitter's #ThankYouObama Shows Heartfelt Gratitude To POTUS\", 'label': 2}, 'truncated_cells': []}\n",
      "{'row_idx': 8, 'row': {'text': 'All CSG and Fracking all around Australia is to cease and Mining Entities held Accountable! - Sign the Petition!', 'label': 1}, 'truncated_cells': []}\n",
      "{'row_idx': 9, 'row': {'text': '@user @user @user @user @user @user take away illegals and dead people and Trump wins popular vote too.', 'label': 0}, 'truncated_cells': []}\n",
      "{'row_idx': 10, 'row': {'text': 'An interesting security vulnerability - albeit not for the everyday car thief', 'label': 1}, 'truncated_cells': []}\n",
      "{'row_idx': 11, 'row': {'text': '#GilmoreGirlsTop4 1. Spoke2. Paris3. Emily4. PattyInvisible number 5. Richard', 'label': 1}, 'truncated_cells': []}\n",
      "{'row_idx': 12, 'row': {'text': '#onedirection #harrystyles cute little dance 😉', 'label': 2}, 'truncated_cells': []}\n",
      "{'row_idx': 13, 'row': {'text': 'When Ryan privatizes SS, Medicare, Medicaid, & does away with ACA, what will Trump\\'s base feel about \"change\" then? That\\'s a big one right?!', 'label': 0}, 'truncated_cells': []}\n",
      "{'row_idx': 14, 'row': {'text': \"Swampbitch Nasty Pelosi  loves yelling 'Fire' in the crowded swamp. #blackfriday @user\", 'label': 0}, 'truncated_cells': []}\n",
      "{'row_idx': 15, 'row': {'text': '@user ohhh ok i see 🤔 what if u have medical marijuana clearance? Does that make a difference', 'label': 1}, 'truncated_cells': []}\n",
      "{'row_idx': 16, 'row': {'text': 'OPINION: The Anti-#Trump #Riots Are a #SmokeScreen:', 'label': 1}, 'truncated_cells': []}\n",
      "{'row_idx': 17, 'row': {'text': 'ISIS and The CIA What You Need To Know! #ISIS #falseflag #saudi #CIA #mossad #israel', 'label': 1}, 'truncated_cells': []}\n",
      "{'row_idx': 18, 'row': {'text': \"@user alt-right was adopted by Deplorables. Average middle Americans.  I've now moved to Libertarian. @user\", 'label': 1}, 'truncated_cells': []}\n",
      "{'row_idx': 19, 'row': {'text': '@user #GilmoreGirlsTop4 Lorelai, Rory, Lane, Sookie @user @user', 'label': 1}, 'truncated_cells': []}\n",
      "{'row_idx': 20, 'row': {'text': 'Christians In Palestine: Yes, They Exist #gaza #palestine #israel #BDS', 'label': 1}, 'truncated_cells': []}\n",
      "{'row_idx': 21, 'row': {'text': \"@user Going to see #FantasticBeasts this afternoon. Mom is a Potter fanatic. My niece was, but she's kinda growing out of it.\", 'label': 2}, 'truncated_cells': []}\n",
      "{'row_idx': 22, 'row': {'text': 'Listen to win passes to see #FantasticBeasts after 2pm w/ @user', 'label': 1}, 'truncated_cells': []}\n",
      "{'row_idx': 23, 'row': {'text': 'The United Nations Headquarters in New York #unitednations #newyork #usa🇺🇸 #USA #newyorkcity…', 'label': 1}, 'truncated_cells': []}\n",
      "{'row_idx': 24, 'row': {'text': 'Zac Efron Flaunts Fit Abs in New ‘Dirty Grandpa’... #ZacEfron', 'label': 1}, 'truncated_cells': []}\n",
      "{'row_idx': 25, 'row': {'text': \"1am and I'm still watching #ThisIsUs\", 'label': 1}, 'truncated_cells': []}\n",
      "{'row_idx': 26, 'row': {'text': \"The left has really gone Full retard haven't they?\", 'label': 0}, 'truncated_cells': []}\n",
      "{'row_idx': 27, 'row': {'text': '#Israel fire updates: Major blaze breaks out near #Jerusalem, firebombing suspected...', 'label': 1}, 'truncated_cells': []}\n",
      "{'row_idx': 28, 'row': {'text': 'RT @user Can I politely suggest that we all stop using the term \"alt-right\" and use other, more precise words.', 'label': 1}, 'truncated_cells': []}\n",
      "{'row_idx': 29, 'row': {'text': \"Day 5 Advent Gift Countdown - 'Gold Standard'  #20moresleeps #christmasgifts #luxuryhampers…\", 'label': 1}, 'truncated_cells': []}\n",
      "{'row_idx': 30, 'row': {'text': 'When Jesse Jackson Cozied Up to Fidel Castro', 'label': 1}, 'truncated_cells': []}\n",
      "{'row_idx': 31, 'row': {'text': 'Ben Carson awoke this morning to find out that the big yellow thing in the sky is the sun', 'label': 1}, 'truncated_cells': []}\n",
      "{'row_idx': 32, 'row': {'text': 'Bike parking still free.', 'label': 1}, 'truncated_cells': []}\n",
      "{'row_idx': 33, 'row': {'text': \"Can't wait to try this - Google Earth VR - this stuff really is the future of exploration....\", 'label': 2}, 'truncated_cells': []}\n",
      "{'row_idx': 34, 'row': {'text': \"@user @user Trump is likely supporting Putin talking on unsecured phone lines bc Trump's tied to Russia #DworkinReport\", 'label': 1}, 'truncated_cells': []}\n",
      "{'row_idx': 35, 'row': {'text': 'The fact that mike pence thinks there\\'s a \"cure\" for being gay is absolutely the most ridiculous statement I have ever heard in my life', 'label': 0}, 'truncated_cells': []}\n",
      "{'row_idx': 36, 'row': {'text': '@user @user @user .....Good Old Graham Westley!!', 'label': 2}, 'truncated_cells': []}\n",
      "{'row_idx': 37, 'row': {'text': 'Photos: A Thanksgiving protest against Dakota Access pipeline - The Boston Globe', 'label': 1}, 'truncated_cells': []}\n",
      "{'row_idx': 38, 'row': {'text': \"@user @user @user @user Clinton foundation reminds me of Maharashtra CM Antuley's foundation in 80s for taking bribe.\", 'label': 0}, 'truncated_cells': []}\n",
      "{'row_idx': 39, 'row': {'text': 'Survey shows Poroshenko has lost considerable electoral support in two years', 'label': 1}, 'truncated_cells': []}\n",
      "{'row_idx': 40, 'row': {'text': 'When Trump jeopardizes their social security and Medicare payments imma laugh.', 'label': 0}, 'truncated_cells': []}\n",
      "{'row_idx': 41, 'row': {'text': 'At Any Price review – generations clash in the American midwest #ZacEfron', 'label': 1}, 'truncated_cells': []}\n",
      "{'row_idx': 42, 'row': {'text': 'Next?#draintheswamp #TimeForChange#TrumpTransitionTeam', 'label': 1}, 'truncated_cells': []}\n",
      "{'row_idx': 43, 'row': {'text': 'Wow - the world as we know it is slowly turning upside down: Microsoft joins the Linux Foundation. Good news I supp…', 'label': 2}, 'truncated_cells': []}\n",
      "{'row_idx': 44, 'row': {'text': \"So that Westworld show, it isn't too bad. I guess. If you like that sort of thing.\", 'label': 1}, 'truncated_cells': []}\n",
      "{'row_idx': 45, 'row': {'text': 'Grayson Allen just gave dude such a sick move', 'label': 0}, 'truncated_cells': []}\n",
      "{'row_idx': 46, 'row': {'text': 'Download UBER app, Register with this promo code NGSBA105 and get a free ride worth #2500. #Uber #UberNigeria', 'label': 1}, 'truncated_cells': []}\n",
      "{'row_idx': 47, 'row': {'text': 'I love Manchester. Everyone knows that - I have said it many ti... #CristianoRonaldo #citations', 'label': 2}, 'truncated_cells': []}\n",
      "{'row_idx': 48, 'row': {'text': 'RT @user It’s not “alt-right.” It’s Neo-Nazi.https://t.co/4fPkSVlSDl', 'label': 0}, 'truncated_cells': []}\n",
      "{'row_idx': 49, 'row': {'text': '@user In august2008.puppet Saakashvili attacked South Ossetia and Russian peacekeepers.South Ossetia will  be i…', 'label': 0}, 'truncated_cells': []}\n",
      "{'row_idx': 50, 'row': {'text': 'Tips for winter driving.#london #cab #taxi #uber #yellowlondontaxi', 'label': 1}, 'truncated_cells': []}\n",
      "{'row_idx': 51, 'row': {'text': \"@user Yes, white supremacists are America's greatest problem ever.  OMG.  GET REAL.  #GOAWAY\", 'label': 0}, 'truncated_cells': []}\n",
      "{'row_idx': 52, 'row': {'text': '#Hatchimals are shite', 'label': 0}, 'truncated_cells': []}\n",
      "{'row_idx': 53, 'row': {'text': \"@user @user @user @user @user @user I'm getting tired of these people and their gun control\", 'label': 0}, 'truncated_cells': []}\n",
      "{'row_idx': 54, 'row': {'text': '#Trump MEMORABILIA#BlackFriday - UP TO 40% OFFUse Code: BLACKFRISAVE#DrainTheSwamp #Deplorables…', 'label': 1}, 'truncated_cells': []}\n",
      "{'row_idx': 55, 'row': {'text': \"It's more difficult to move to Mexico as the Clintons built a bloody great fence all along the Border…\", 'label': 0}, 'truncated_cells': []}\n",
      "{'row_idx': 56, 'row': {'text': \"@user it's weird 'cause I usually like music in his vein, but it's every so shy of being memorable like a Bob Dylan/Lou Reed thing(?)\", 'label': 0}, 'truncated_cells': []}\n",
      "{'row_idx': 57, 'row': {'text': '#Putin has had it with #Obama and has decided to throw #America out of #Syria negotiationshttps://t.co/z4CBIDDU11', 'label': 1}, 'truncated_cells': []}\n",
      "{'row_idx': 58, 'row': {'text': '@user we all know on JANUARY 20th trump gonna push oil, fossil fuels, fracking down our throats. Fml... We must fight back. GOP sucks', 'label': 0}, 'truncated_cells': []}\n",
      "{'row_idx': 59, 'row': {'text': 'With James Comey in office, how could the US investigate the Russians? @user @user @user  @user', 'label': 0}, 'truncated_cells': []}\n",
      "{'row_idx': 60, 'row': {'text': \"If you're looking for work in #Palestine, TX, check out this #job: #Retail #Hiring #CareerArc\", 'label': 1}, 'truncated_cells': []}\n",
      "{'row_idx': 61, 'row': {'text': \"Didn't take long for the Clinton Foindation money train to derail. Zero Hedge\", 'label': 0}, 'truncated_cells': []}\n",
      "{'row_idx': 62, 'row': {'text': 'HOO BOY THAT WESTWORLD FINALE', 'label': 2}, 'truncated_cells': []}\n",
      "{'row_idx': 63, 'row': {'text': \"idk where to start after my intro. im writing from a pro-raising-minimum-wage pov but I'm stuck ☹️\", 'label': 1}, 'truncated_cells': []}\n",
      "{'row_idx': 64, 'row': {'text': \"This isn't the 1st time @user & the #Hamas supporting #IntifadaBrigade mock disasters/terror attacks while p…\", 'label': 1}, 'truncated_cells': []}\n",
      "{'row_idx': 65, 'row': {'text': 'Tim Duncan and Gregg Popovich. Two legends.', 'label': 2}, 'truncated_cells': []}\n",
      "{'row_idx': 66, 'row': {'text': \"#Platz / #Place: 4   Vente Pa' Ca (feat. Maluma) - Ricky Martin     #top100 #musik #music #charts #Spain #Spanien\", 'label': 1}, 'truncated_cells': []}\n",
      "{'row_idx': 67, 'row': {'text': 'Come on Electoral College. Please do your job. Majority of Americans do not want @user This is NOT the f…', 'label': 1}, 'truncated_cells': []}\n",
      "{'row_idx': 68, 'row': {'text': \"@user That looks like Trump's transition team.\", 'label': 1}, 'truncated_cells': []}\n",
      "{'row_idx': 69, 'row': {'text': 'shoutout to the moms of -Zac Efron-Ryan Gosling-Franco Brothers-Hemsworth brothers-Channing Tatumfor making these beautiful men', 'label': 2}, 'truncated_cells': []}\n",
      "{'row_idx': 70, 'row': {'text': '@user @user @user only wants adulation and sycophants. Like Kim Fatty the Third. Paranoia and bugs rooms.', 'label': 0}, 'truncated_cells': []}\n",
      "{'row_idx': 71, 'row': {'text': '@user @user involuntary euthanasia is a better system', 'label': 1}, 'truncated_cells': []}\n",
      "{'row_idx': 72, 'row': {'text': \"@user ain't that how y'all got Tim Duncan? 🤔\", 'label': 1}, 'truncated_cells': []}\n",
      "{'row_idx': 73, 'row': {'text': \"@user @user @user You're also young :P\", 'label': 2}, 'truncated_cells': []}\n",
      "{'row_idx': 74, 'row': {'text': '@user @user @user @user Let robots be #Robots!', 'label': 1}, 'truncated_cells': []}\n",
      "{'row_idx': 75, 'row': {'text': '@user @user @user @user Poorer states than Alabama have it because they accepted Medicaid expansion', 'label': 1}, 'truncated_cells': []}\n",
      "{'row_idx': 76, 'row': {'text': '2016 Prime Cuts JUSTIN VERLANDER Timeline Game Used 2 Color Button Patch 1/1', 'label': 1}, 'truncated_cells': []}\n",
      "{'row_idx': 77, 'row': {'text': 'CNN weeps for their erstwhile hero Fidel Castro.', 'label': 0}, 'truncated_cells': []}\n",
      "{'row_idx': 78, 'row': {'text': '@user The Jew boy has spoken. @user @user @user @user @user', 'label': 1}, 'truncated_cells': []}\n",
      "{'row_idx': 79, 'row': {'text': 'The latest Smart LifeStyle Food! Thanks to @user #weightloss #nationalfastfoodday', 'label': 2}, 'truncated_cells': []}\n",
      "{'row_idx': 80, 'row': {'text': 'I find myself humming the notes of #ThisIsUs  @user sang a few episodes ago.  Missing her angelic voice.  Love the show.', 'label': 2}, 'truncated_cells': []}\n",
      "{'row_idx': 81, 'row': {'text': '#NoDAPL #CorporateGreed #corporations are #evil especially the media #corporations #tpp #TrumpTrain #bravo #cnn #foxnews #soulless #wrong 😣', 'label': 0}, 'truncated_cells': []}\n",
      "{'row_idx': 82, 'row': {'text': \"@user it's free with insurance because of Obamacare, which trump wants to repeal 🙃\", 'label': 0}, 'truncated_cells': []}\n",
      "{'row_idx': 83, 'row': {'text': 'Buy VAMAA 3D Printing Pen 1.75mm ABS Filament 10m (0.25*40 Strands) (Snow White) at Rs. 299.00', 'label': 1}, 'truncated_cells': []}\n",
      "{'row_idx': 84, 'row': {'text': 'The #Obama admin. has carried out a deliberately deceptive campaign accusing Iran of sending arms to #Houthis#yemenhttps://t.co/KYu02C73ww', 'label': 1}, 'truncated_cells': []}\n",
      "{'row_idx': 85, 'row': {'text': '#Yanukovych seems much more willing to take questions from the media than @user often is! #UkrAine', 'label': 1}, 'truncated_cells': []}\n",
      "{'row_idx': 86, 'row': {'text': \"Madison Bartley with nice debut tonight: made her only shot and finished with 5 boards, 3 blocks, and 2 steals in Fairmont's win over Tipp.\", 'label': 2}, 'truncated_cells': []}\n",
      "{'row_idx': 87, 'row': {'text': '@user @user @user @user ☞ ISIS Films Men Laughing While Woman Is Raped in Background', 'label': 0}, 'truncated_cells': []}\n",
      "{'row_idx': 88, 'row': {'text': '¡Gobble gobble, idiot hookers! #Thanksgiving #ScreamQueens', 'label': 0}, 'truncated_cells': []}\n",
      "{'row_idx': 89, 'row': {'text': 'Pelosi Challenger Brings ‘Industrial Midwest’ Perspective', 'label': 1}, 'truncated_cells': []}\n",
      "{'row_idx': 90, 'row': {'text': \"#TPP is N.W.O.; 1%er's Corporatocracy;～Global Governance by Corporate Jews.【https://t.co/WZGQvZfJgo\\u3000https://t.co/vRaKoOEr73】#ows #tcot #p2\", 'label': 1}, 'truncated_cells': []}\n",
      "{'row_idx': 91, 'row': {'text': \"@user I hear you. Not worth it. Its like arguing with the devil. That's why I'm on gab.ai. All us deplorables over there. Come join\", 'label': 0}, 'truncated_cells': []}\n",
      "{'row_idx': 92, 'row': {'text': 'Power of 50+ years of unrelenting CIA propaganda for sure. Lest we also forget 50+ years illegal USA trade embargo…', 'label': 1}, 'truncated_cells': []}\n",
      "{'row_idx': 93, 'row': {'text': \"Okay, @user I think I've got my #GilmoreGirlsTop4: Max, Jess, Luke, Sookie\", 'label': 1}, 'truncated_cells': []}\n",
      "{'row_idx': 94, 'row': {'text': 'How To Get Medical Marijuana Dispensary Card\\xa0Ontario', 'label': 1}, 'truncated_cells': []}\n",
      "{'row_idx': 95, 'row': {'text': '@user Your progressive POS rag is as irrelevant as Michael Moore, one of your early editors.', 'label': 0}, 'truncated_cells': []}\n",
      "{'row_idx': 96, 'row': {'text': '“It’s such a futuristic idea. A world in which the descendants of slaves become poets.” ~ Terrance Hayes #NBAwards', 'label': 1}, 'truncated_cells': []}\n",
      "{'row_idx': 97, 'row': {'text': 'are you gonna say \"suck it bitch\" to the people he mass deported? the people who\\'ve been terrorized by drone strike…', 'label': 0}, 'truncated_cells': []}\n",
      "{'row_idx': 98, 'row': {'text': \"@user Why is no one screaming for gun control? Shouldn't that be the story MSM obsesses over? But no, they MUST discredit #PizzaGate\", 'label': 0}, 'truncated_cells': []}\n",
      "{'row_idx': 99, 'row': {'text': '@user Wow...this is one deadly statement! Reminding me of the Greta Muhammad Ali.', 'label': 2}, 'truncated_cells': []}\n"
     ]
    }
   ],
   "source": [
    "preview_url = f\"first-rows?dataset={DATASET}&config=sentiment&split=test\"\n",
    "response = query(preview_url)\n",
    "for row in response[\"rows\"]:\n",
    "    print(row)"
   ]
  }
 ],
 "metadata": {
  "kernelspec": {
   "display_name": "Python 3 (ipykernel)",
   "language": "python",
   "name": "python3"
  },
  "language_info": {
   "codemirror_mode": {
    "name": "ipython",
    "version": 3
   },
   "file_extension": ".py",
   "mimetype": "text/x-python",
   "name": "python",
   "nbconvert_exporter": "python",
   "pygments_lexer": "ipython3",
   "version": "3.8.9"
  }
 },
 "nbformat": 4,
 "nbformat_minor": 5
}
