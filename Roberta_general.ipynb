{
 "cells": [
  {
   "cell_type": "markdown",
   "id": "689722e0-edfe-4baa-96c3-4bb4dfd2a4a5",
   "metadata": {},
   "source": [
    "# Preliminary"
   ]
  },
  {
   "cell_type": "markdown",
   "id": "cec92332-3776-4c77-989e-d9981104d68d",
   "metadata": {
    "tags": []
   },
   "source": [
    "\"\"\"\n",
    "import pyuac\n",
    "\n",
    "def main():\n",
    "    print(\"Do stuff here that requires being run as an admin.\")\n",
    "    # The window will disappear as soon as the program exits!\n",
    "    input(\"Press enter to close the window. >\")\n",
    "\n",
    "if __name__ == \"__main__\":\n",
    "    if not pyuac.isUserAdmin():\n",
    "        print(\"Re-launching as admin!\")\n",
    "        pyuac.runAsAdmin()\n",
    "    else:        \n",
    "        main()\n",
    "\"\"\""
   ]
  },
  {
   "cell_type": "code",
   "execution_count": 1,
   "id": "c5c6c77c-9c8e-4c9e-8c86-c5ac7ca823c9",
   "metadata": {
    "tags": []
   },
   "outputs": [],
   "source": [
    "from transformers import AutoModelForSequenceClassification\n",
    "from transformers import AutoTokenizer\n",
    "\n",
    "import numpy as np\n",
    "from scipy.special import softmax\n",
    "import csv\n",
    "import matplotlib.pyplot as plt\n",
    "from sklearn.metrics import confusion_matrix\n",
    "import pandas as pd"
   ]
  },
  {
   "cell_type": "code",
   "execution_count": 2,
   "id": "1d561f4c-bdf4-476e-bb1d-993844b996cd",
   "metadata": {
    "tags": []
   },
   "outputs": [],
   "source": [
    "tasks = ['emotion', 'hate', 'irony', 'offensive', 'sentiment']"
   ]
  },
  {
   "cell_type": "markdown",
   "id": "034c8a11-6e76-44df-81f5-a59df883660d",
   "metadata": {},
   "source": [
    "# Process Function"
   ]
  },
  {
   "cell_type": "code",
   "execution_count": 3,
   "id": "35625fc4-0bb7-4042-982a-898894b4e89b",
   "metadata": {
    "tags": []
   },
   "outputs": [],
   "source": [
    "# Preprocess text (username and link placeholders)\n",
    "def preprocess(text):\n",
    "    new_text = []\n",
    "    for t in text.split(\" \"):\n",
    "        t = '@user' if t.startswith('@') and len(t) > 1 else t\n",
    "        t = 'http' if t.startswith('http') else t\n",
    "        new_text.append(t)\n",
    "    return \" \".join(new_text)"
   ]
  },
  {
   "cell_type": "code",
   "execution_count": 4,
   "id": "1aad9eda-2d3d-4778-9489-fda226fafb1f",
   "metadata": {
    "tags": []
   },
   "outputs": [],
   "source": [
    "def get_labels(task):\n",
    "    # download label mapping\n",
    "    labels=[]\n",
    "    mapping_link = f\"./cardiffnlp/twitter-roberta-base-{task}/mapping.txt\"\n",
    "    with open(mapping_link, encoding=\"utf-8\") as f:\n",
    "        maps = f.read().split(\"\\n\")\n",
    "        csvreader = csv.reader(maps, delimiter='\\t')\n",
    "    labels = [row[1] for row in csvreader if len(row) > 1]\n",
    "    return labels"
   ]
  },
  {
   "cell_type": "code",
   "execution_count": 5,
   "id": "65ea4c8f-dddc-4c83-b198-076a72b53049",
   "metadata": {
    "tags": []
   },
   "outputs": [],
   "source": [
    "def get_analysis(task, text):\n",
    "    labels = get_labels(task)\n",
    "    MODEL = f\"cardiffnlp/twitter-roberta-base-{task}\"\n",
    "    tokenizer = AutoTokenizer.from_pretrained(MODEL)\n",
    "    model = AutoModelForSequenceClassification.from_pretrained(MODEL)\n",
    "    \n",
    "    text = preprocess(text)\n",
    "    encoded_input = tokenizer(text, return_tensors='pt')\n",
    "    output = model(**encoded_input)\n",
    "    scores = output[0][0].detach().numpy()\n",
    "    scores = softmax(scores)\n",
    "    \n",
    "    ranking = np.argsort(scores)\n",
    "    ranking = ranking[::-1]\n",
    "    print(f\"According to our {task} model, this tweet is :\")\n",
    "\n",
    "    for i in range(scores.shape[0]):\n",
    "        l = labels[ranking[i]]\n",
    "        s = scores[ranking[i]]\n",
    "        print(f\"{i+1}) {l} {np.round(float(s), 4)}\")\n",
    "    \n",
    "    return scores"
   ]
  },
  {
   "cell_type": "markdown",
   "id": "392b74fc-9b7c-463e-956c-bb24bc3b75f2",
   "metadata": {},
   "source": [
    "# Let's Analyse"
   ]
  },
  {
   "cell_type": "code",
   "execution_count": 6,
   "id": "79e7ef36-745b-4cf7-a11d-1ce2d6c027f4",
   "metadata": {
    "tags": []
   },
   "outputs": [
    {
     "name": "stdout",
     "output_type": "stream",
     "text": [
      "According to our emotion model, this tweet is :\n",
      "1) joy 0.9542\n",
      "2) optimism 0.0177\n",
      "3) anger 0.0145\n",
      "4) sadness 0.0136\n",
      "According to our hate model, this tweet is :\n",
      "1) not-hate 0.9523\n",
      "2) hate 0.0477\n",
      "According to our irony model, this tweet is :\n",
      "1) irony 0.9348\n",
      "2) non_irony 0.0652\n",
      "According to our offensive model, this tweet is :\n",
      "1) not-offensive 0.8711\n",
      "2) offensive 0.1289\n",
      "According to our sentiment model, this tweet is :\n",
      "1) positive 0.9868\n",
      "2) neutral 0.009\n",
      "3) negative 0.0042\n"
     ]
    }
   ],
   "source": [
    "tweet = \"My IA teacher is so handsome !\"\n",
    "\n",
    "for task in tasks:\n",
    "    get_analysis(task, tweet)"
   ]
  },
  {
   "cell_type": "code",
   "execution_count": 7,
   "id": "82cab25c-77ae-44ae-876d-93cee913cded",
   "metadata": {
    "tags": []
   },
   "outputs": [],
   "source": [
    "def prediction(task, text):\n",
    "    MODEL = f\"cardiffnlp/twitter-roberta-base-{task}\"\n",
    "    tokenizer = AutoTokenizer.from_pretrained(MODEL)\n",
    "    model = AutoModelForSequenceClassification.from_pretrained(MODEL)\n",
    "    \n",
    "    encoded_input = tokenizer(text, return_tensors='pt')\n",
    "    output = model(**encoded_input)\n",
    "    label = output[0][0].detach().numpy().argmax(axis = 0)\n",
    "    \n",
    "    return label\n",
    "\n",
    "#task = \"sentiment\"\n",
    "#print(get_labels(task))\n",
    "\n",
    "#label = prediction(\"sentiment\", \"My IA teacher is handsome\")\n",
    "#print(label)"
   ]
  },
  {
   "cell_type": "code",
   "execution_count": 8,
   "id": "1901392b-af88-4e52-900f-dd8de988c152",
   "metadata": {
    "tags": []
   },
   "outputs": [
    {
     "name": "stdout",
     "output_type": "stream",
     "text": [
      "2\n"
     ]
    }
   ],
   "source": [
    "pred_label = prediction(\"sentiment\", \"My IA teacher is handsome\")\n",
    "print(pred_label)"
   ]
  },
  {
   "cell_type": "code",
   "execution_count": 9,
   "id": "db1f0c7b-c625-4ebd-bf94-f707d41527f1",
   "metadata": {
    "tags": []
   },
   "outputs": [],
   "source": [
    "#from sklearn.metrics import confusion_matrix\n",
    "#import matplotlib.pyplot as plt\n",
    "#import matplotlib.font_manager as fm\n",
    "\n",
    "# Load the font file\n",
    "#font_path = \"./font/NotoEmoji-VariableFont_wght.ttf\"\n",
    "#font_prop = fm.FontProperties(fname=font_path)\n",
    "#plt.rcParams[\"font.family\"] = font_prop.get_name()\n",
    "#import os\n",
    "#print(os.path.isfile(font_path))z\n",
    "#if task == \"emoji\":\n",
    "#    font_path = \"font/NotoEmoji-Regular.ttf\"\n",
    "#    prop = font_manager.FontProperties(fname=font_path)\n",
    "#    legend_labels = ['read hearth', '😍', '😂', '💕', '🔥', '😊', '😎', '✨', 'blue hearth', '😘', '📷', 'US flag', '☀', 'purple hearth', '😉', '💯', '😁', '🎄', '📸', '😜']\n"
   ]
  },
  {
   "cell_type": "code",
   "execution_count": 10,
   "id": "e83af925-ff9f-488c-bb66-e6bd314a375c",
   "metadata": {
    "tags": []
   },
   "outputs": [],
   "source": [
    "def display_confusion_matrix(conf_mat, list_labels, order_labels, task = \"\", data_set= \"\", nb_samples=10):\n",
    "    plt.imshow(conf_mat, cmap='YlOrRd')\n",
    "    #plt.plot(conf_mat, cmap='YlOrRd')\n",
    "    plt.colorbar()\n",
    "    plt.xlabel('Predicted labels')\n",
    "    plt.ylabel('True labels')\n",
    "\n",
    "    for i in range(len(conf_mat)):\n",
    "        for j in range(len(conf_mat[i])):\n",
    "            if i == j:\n",
    "                plt.text(j, i, int(round(conf_mat[i][j] * 100)), ha=\"center\", va=\"center\", color=\"white\")\n",
    "            else:\n",
    "                plt.text(j, i, int(round(conf_mat[i][j] * 100)), ha='center', va='center', color='black')\n",
    "\n",
    "    plt.xticks(order_labels)\n",
    "    plt.yticks(order_labels)\n",
    "    \n",
    "    plt.gca().set_xticklabels(list_labels, rotation=90)\n",
    "    plt.gca().set_yticklabels(list_labels)\n",
    "\n",
    "    #plt.title(\"+ de 25% du temps de travail a été à dessiner ce graph, profitez-en\")\n",
    "    plt.title(f\"Confusion Matrix of the {task} model\")\n",
    "    #plt.savefig(f\"error_analysis/confusion_matrix_{task}_{data_set}_{nb_samples}.png\",dpi=300)\n",
    "    #if(display == \"no\"):\n",
    "    #    plt.close()\n",
    "        \n",
    "    return plt"
   ]
  },
  {
   "cell_type": "code",
   "execution_count": 11,
   "id": "638e7fbb-d252-49df-a001-fdc11bd44453",
   "metadata": {
    "tags": []
   },
   "outputs": [],
   "source": [
    "def error_by_class_calculation(true_labels, pred_labels, order_labels):\n",
    "    conf_mat = confusion_matrix(true_labels, pred_labels, labels=order_labels)\n",
    "    wrong_class_prop = np.zeros((1, len(order_labels)))\n",
    "    sum_of_error = conf_mat.sum() - np.trace(conf_mat)\n",
    "    for i in range(len(conf_mat)):\n",
    "        wrong_class_prop[0, i] = (conf_mat[i, :].sum() - conf_mat[i, i]) / sum_of_error if sum_of_error != 0 else 0\n",
    "        \n",
    "    return wrong_class_prop"
   ]
  },
  {
   "cell_type": "code",
   "execution_count": 12,
   "id": "eaf6a93f-36cb-40ac-b244-708aabbf750a",
   "metadata": {
    "tags": []
   },
   "outputs": [],
   "source": [
    "def display_error_by_class(wrong_class_prop, list_labels, task = \"\", data_set= \"\", nb_samples=10):\n",
    "    (fig, ax) = plt.subplots(figsize=(7, 4))\n",
    "    plt.plot(range(len(list_labels)), wrong_class_prop[0], marker = 'o')\n",
    "    \n",
    "    y_axes = [(i/10) for i in range(6)]\n",
    "    ax.set_yticks(y_axes)\n",
    "\n",
    "    \n",
    "    plt.xticks(np.arange(len(list_labels)))\n",
    "    plt.gca().set_xticklabels(list_labels, rotation=90)\n",
    "    plt.xlabel('Predicted labels')\n",
    "    plt.ylabel('Portion of wrong label')\n",
    "    plt.title(\"Proportion of wrongly labeled text among the wrong labeled texts\")\n",
    "    #plt.savefig(f\"error_analysis/error_by_class_{task}_{data_set}_{nb_samples}.png\",dpi=300)\n",
    "    #if(display == \"no\"):\n",
    "    #    plt.close()\n",
    "        \n",
    "    return plt"
   ]
  },
  {
   "cell_type": "code",
   "execution_count": 13,
   "id": "f905c03e-e8bf-4672-a41a-5e54ee9e1898",
   "metadata": {
    "tags": []
   },
   "outputs": [],
   "source": [
    "def error_analysis(text_dataset, true_labels, task, data_set,  nb_samples=10, display=\"no\"):\n",
    "    pred_labels = []\n",
    "    text_dataset = text_dataset[:nb_samples]\n",
    "    true_labels = true_labels[:nb_samples]\n",
    "    list_labels = get_labels(task)\n",
    "    order_labels = np.arange(len(list_labels))\n",
    "    \n",
    "    i = 0\n",
    "    for text in text_dataset:\n",
    "        i+=1\n",
    "        print(f\"sample number {i}\")\n",
    "        pred_label = prediction(task, text)\n",
    "        pred_labels.append(pred_label)\n",
    "\n",
    "    pred_labels = np.array(pred_labels).flatten()\n",
    "    true_labels = np.array(true_labels).flatten()\n",
    "    \n",
    "    conf_mat = confusion_matrix(true_labels, pred_labels, labels=order_labels, normalize='true')\n",
    "    plt_confusion = display_confusion_matrix(conf_mat, list_labels, order_labels, task, data_set, nb_samples)\n",
    "    plt_confusion.savefig(f\"error_analysis/confusion_matrix_{task}_{data_set}_{nb_samples}.png\",dpi=300)\n",
    "    if(display == \"no\"):\n",
    "        plt_confusion.close()\n",
    "\n",
    "    wrong_class_prop = error_by_class_calculation(true_labels, pred_labels, order_labels)\n",
    "    plt_error = display_error_by_class(wrong_class_prop, list_labels, task, data_set, nb_samples)\n",
    "    plt_error.savefig(f\"error_analysis/error_by_class_{task}_{data_set}_{nb_samples}.png\",dpi=300)\n",
    "    if(display == \"no\"):\n",
    "        plt_error.close()\n",
    "\n",
    "    "
   ]
  },
  {
   "cell_type": "code",
   "execution_count": 14,
   "id": "63a47b5d-8cce-460e-aae8-5503722a4d92",
   "metadata": {
    "tags": []
   },
   "outputs": [],
   "source": [
    "def error_analysis_specific_set(task, data_set, nb_sample=10, display=\"no\"):\n",
    "    df_data = pd.read_parquet(f\"./data_set/{task}/tweet_eval-{data_set}.parquet\")\n",
    "    df_data_shuffle = df_data.sample(frac=1)\n",
    "    \n",
    "    texts = df_data_shuffle['text'][:nb_sample].tolist()\n",
    "    labels = df_data_shuffle['label'][:nb_sample].tolist()\n",
    "    print(\"   current data_set =\", data_set) \n",
    "    error_analysis(texts, labels, task, data_set, nb_samples = nb_sample, display=display)"
   ]
  },
  {
   "cell_type": "code",
   "execution_count": 15,
   "id": "a1047c8c-e8cd-46a4-abe8-0487622dd502",
   "metadata": {
    "tags": []
   },
   "outputs": [
    {
     "name": "stdout",
     "output_type": "stream",
     "text": [
      "   current data_set = test\n",
      "sample number 1\n",
      "sample number 2\n",
      "sample number 3\n",
      "sample number 4\n",
      "sample number 5\n",
      "sample number 6\n",
      "sample number 7\n",
      "sample number 8\n",
      "sample number 9\n",
      "sample number 10\n"
     ]
    },
    {
     "data": {
      "image/png": "[encoded data removed]",
      "text/plain": [
       "<Figure size 640x480 with 2 Axes>"
      ]
     },
     "metadata": {},
     "output_type": "display_data"
    },
    {
     "data": {
      "image/png": "[encoded data removed]",
      "text/plain": [
       "<Figure size 700x400 with 1 Axes>"
      ]
     },
     "metadata": {},
     "output_type": "display_data"
    }
   ],
   "source": [
    "error_analysis_specific_set(\"sentiment\", \"test\", nb_sample=10, display=\"yes\")  "
   ]
  },
  {
   "cell_type": "code",
   "execution_count": 16,
   "id": "abe70fd9-bc3f-467f-9ece-c477ed64f460",
   "metadata": {},
   "outputs": [
    {
     "name": "stdout",
     "output_type": "stream",
     "text": [
      "task = emotion\n",
      "   current data_set = test\n",
      "sample number 1\n",
      "sample number 2\n",
      "   current data_set = train\n",
      "sample number 1\n",
      "sample number 2\n",
      "   current data_set = validation\n",
      "sample number 1\n",
      "sample number 2\n",
      "\n",
      "task = hate\n",
      "   current data_set = test\n",
      "sample number 1\n",
      "sample number 2\n",
      "   current data_set = train\n",
      "sample number 1\n",
      "sample number 2\n",
      "   current data_set = validation\n",
      "sample number 1\n",
      "sample number 2\n",
      "\n",
      "task = irony\n",
      "   current data_set = test\n",
      "sample number 1\n",
      "sample number 2\n",
      "   current data_set = train\n",
      "sample number 1\n"
     ]
    },
    {
     "ename": "KeyboardInterrupt",
     "evalue": "",
     "output_type": "error",
     "traceback": [
      "\u001b[1;31m---------------------------------------------------------------------------\u001b[0m",
      "\u001b[1;31mKeyboardInterrupt\u001b[0m                         Traceback (most recent call last)",
      "Cell \u001b[1;32mIn[16], line 5\u001b[0m\n\u001b[0;32m      3\u001b[0m \u001b[39mprint\u001b[39m(\u001b[39m\"\u001b[39m\u001b[39mtask =\u001b[39m\u001b[39m\"\u001b[39m, task)\n\u001b[0;32m      4\u001b[0m \u001b[39mfor\u001b[39;00m data_set \u001b[39min\u001b[39;00m [\u001b[39m\"\u001b[39m\u001b[39mtest\u001b[39m\u001b[39m\"\u001b[39m, \u001b[39m\"\u001b[39m\u001b[39mtrain\u001b[39m\u001b[39m\"\u001b[39m, \u001b[39m\"\u001b[39m\u001b[39mvalidation\u001b[39m\u001b[39m\"\u001b[39m]:\n\u001b[1;32m----> 5\u001b[0m     error_analysis_specific_set(task, data_set, nb_sample\u001b[39m=\u001b[39;49m\u001b[39m2\u001b[39;49m, display\u001b[39m=\u001b[39;49m\u001b[39m\"\u001b[39;49m\u001b[39mno\u001b[39;49m\u001b[39m\"\u001b[39;49m)  \u001b[39m# à faire quand on aura le temps\u001b[39;00m\n\u001b[0;32m      6\u001b[0m \u001b[39mprint\u001b[39m(\u001b[39m\"\u001b[39m\u001b[39m\"\u001b[39m)\n",
      "Cell \u001b[1;32mIn[14], line 8\u001b[0m, in \u001b[0;36merror_analysis_specific_set\u001b[1;34m(task, data_set, nb_sample, display)\u001b[0m\n\u001b[0;32m      6\u001b[0m labels \u001b[39m=\u001b[39m df_data_shuffle[\u001b[39m'\u001b[39m\u001b[39mlabel\u001b[39m\u001b[39m'\u001b[39m][:nb_sample]\u001b[39m.\u001b[39mtolist()\n\u001b[0;32m      7\u001b[0m \u001b[39mprint\u001b[39m(\u001b[39m\"\u001b[39m\u001b[39m   current data_set =\u001b[39m\u001b[39m\"\u001b[39m, data_set) \n\u001b[1;32m----> 8\u001b[0m error_analysis(texts, labels, task, data_set, nb_samples \u001b[39m=\u001b[39;49m nb_sample, display\u001b[39m=\u001b[39;49mdisplay)\n",
      "Cell \u001b[1;32mIn[13], line 12\u001b[0m, in \u001b[0;36merror_analysis\u001b[1;34m(text_dataset, true_labels, task, data_set, nb_samples, display)\u001b[0m\n\u001b[0;32m     10\u001b[0m     i\u001b[39m+\u001b[39m\u001b[39m=\u001b[39m\u001b[39m1\u001b[39m\n\u001b[0;32m     11\u001b[0m     \u001b[39mprint\u001b[39m(\u001b[39mf\u001b[39m\u001b[39m\"\u001b[39m\u001b[39msample number \u001b[39m\u001b[39m{\u001b[39;00mi\u001b[39m}\u001b[39;00m\u001b[39m\"\u001b[39m)\n\u001b[1;32m---> 12\u001b[0m     pred_label \u001b[39m=\u001b[39m prediction(task, text)\n\u001b[0;32m     13\u001b[0m     pred_labels\u001b[39m.\u001b[39mappend(pred_label)\n\u001b[0;32m     15\u001b[0m pred_labels \u001b[39m=\u001b[39m np\u001b[39m.\u001b[39marray(pred_labels)\u001b[39m.\u001b[39mflatten()\n",
      "Cell \u001b[1;32mIn[7], line 4\u001b[0m, in \u001b[0;36mprediction\u001b[1;34m(task, text)\u001b[0m\n\u001b[0;32m      2\u001b[0m MODEL \u001b[39m=\u001b[39m \u001b[39mf\u001b[39m\u001b[39m\"\u001b[39m\u001b[39mcardiffnlp/twitter-roberta-base-\u001b[39m\u001b[39m{\u001b[39;00mtask\u001b[39m}\u001b[39;00m\u001b[39m\"\u001b[39m\n\u001b[0;32m      3\u001b[0m tokenizer \u001b[39m=\u001b[39m AutoTokenizer\u001b[39m.\u001b[39mfrom_pretrained(MODEL)\n\u001b[1;32m----> 4\u001b[0m model \u001b[39m=\u001b[39m AutoModelForSequenceClassification\u001b[39m.\u001b[39;49mfrom_pretrained(MODEL)\n\u001b[0;32m      6\u001b[0m encoded_input \u001b[39m=\u001b[39m tokenizer(text, return_tensors\u001b[39m=\u001b[39m\u001b[39m'\u001b[39m\u001b[39mpt\u001b[39m\u001b[39m'\u001b[39m)\n\u001b[0;32m      7\u001b[0m output \u001b[39m=\u001b[39m model(\u001b[39m*\u001b[39m\u001b[39m*\u001b[39mencoded_input)\n",
      "File \u001b[1;32md:\\Programmes\\symbolik_link\\pypoetry\\Cache\\virtualenvs\\tsi-project-Fu6WFrE4-py3.10\\lib\\site-packages\\transformers\\models\\auto\\auto_factory.py:471\u001b[0m, in \u001b[0;36m_BaseAutoModelClass.from_pretrained\u001b[1;34m(cls, pretrained_model_name_or_path, *model_args, **kwargs)\u001b[0m\n\u001b[0;32m    469\u001b[0m \u001b[39melif\u001b[39;00m \u001b[39mtype\u001b[39m(config) \u001b[39min\u001b[39;00m \u001b[39mcls\u001b[39m\u001b[39m.\u001b[39m_model_mapping\u001b[39m.\u001b[39mkeys():\n\u001b[0;32m    470\u001b[0m     model_class \u001b[39m=\u001b[39m _get_model_class(config, \u001b[39mcls\u001b[39m\u001b[39m.\u001b[39m_model_mapping)\n\u001b[1;32m--> 471\u001b[0m     \u001b[39mreturn\u001b[39;00m model_class\u001b[39m.\u001b[39mfrom_pretrained(\n\u001b[0;32m    472\u001b[0m         pretrained_model_name_or_path, \u001b[39m*\u001b[39mmodel_args, config\u001b[39m=\u001b[39mconfig, \u001b[39m*\u001b[39m\u001b[39m*\u001b[39mhub_kwargs, \u001b[39m*\u001b[39m\u001b[39m*\u001b[39mkwargs\n\u001b[0;32m    473\u001b[0m     )\n\u001b[0;32m    474\u001b[0m \u001b[39mraise\u001b[39;00m \u001b[39mValueError\u001b[39;00m(\n\u001b[0;32m    475\u001b[0m     \u001b[39mf\u001b[39m\u001b[39m\"\u001b[39m\u001b[39mUnrecognized configuration class \u001b[39m\u001b[39m{\u001b[39;00mconfig\u001b[39m.\u001b[39m\u001b[39m__class__\u001b[39m\u001b[39m}\u001b[39;00m\u001b[39m for this kind of AutoModel: \u001b[39m\u001b[39m{\u001b[39;00m\u001b[39mcls\u001b[39m\u001b[39m.\u001b[39m\u001b[39m__name__\u001b[39m\u001b[39m}\u001b[39;00m\u001b[39m.\u001b[39m\u001b[39m\\n\u001b[39;00m\u001b[39m\"\u001b[39m\n\u001b[0;32m    476\u001b[0m     \u001b[39mf\u001b[39m\u001b[39m\"\u001b[39m\u001b[39mModel type should be one of \u001b[39m\u001b[39m{\u001b[39;00m\u001b[39m'\u001b[39m\u001b[39m, \u001b[39m\u001b[39m'\u001b[39m\u001b[39m.\u001b[39mjoin(c\u001b[39m.\u001b[39m\u001b[39m__name__\u001b[39m\u001b[39m \u001b[39m\u001b[39mfor\u001b[39;00m\u001b[39m \u001b[39mc\u001b[39m \u001b[39m\u001b[39min\u001b[39;00m\u001b[39m \u001b[39m\u001b[39mcls\u001b[39m\u001b[39m.\u001b[39m_model_mapping\u001b[39m.\u001b[39mkeys())\u001b[39m}\u001b[39;00m\u001b[39m.\u001b[39m\u001b[39m\"\u001b[39m\n\u001b[0;32m    477\u001b[0m )\n",
      "File \u001b[1;32md:\\Programmes\\symbolik_link\\pypoetry\\Cache\\virtualenvs\\tsi-project-Fu6WFrE4-py3.10\\lib\\site-packages\\transformers\\modeling_utils.py:2498\u001b[0m, in \u001b[0;36mPreTrainedModel.from_pretrained\u001b[1;34m(cls, pretrained_model_name_or_path, *model_args, **kwargs)\u001b[0m\n\u001b[0;32m   2495\u001b[0m     init_contexts\u001b[39m.\u001b[39mappend(init_empty_weights())\n\u001b[0;32m   2497\u001b[0m \u001b[39mwith\u001b[39;00m ContextManagers(init_contexts):\n\u001b[1;32m-> 2498\u001b[0m     model \u001b[39m=\u001b[39m \u001b[39mcls\u001b[39m(config, \u001b[39m*\u001b[39mmodel_args, \u001b[39m*\u001b[39m\u001b[39m*\u001b[39mmodel_kwargs)\n\u001b[0;32m   2500\u001b[0m \u001b[39m# Check first if we are `from_pt`\u001b[39;00m\n\u001b[0;32m   2501\u001b[0m \u001b[39mif\u001b[39;00m use_keep_in_fp32_modules:\n",
      "File \u001b[1;32md:\\Programmes\\symbolik_link\\pypoetry\\Cache\\virtualenvs\\tsi-project-Fu6WFrE4-py3.10\\lib\\site-packages\\transformers\\models\\roberta\\modeling_roberta.py:1177\u001b[0m, in \u001b[0;36mRobertaForSequenceClassification.__init__\u001b[1;34m(self, config)\u001b[0m\n\u001b[0;32m   1174\u001b[0m \u001b[39mself\u001b[39m\u001b[39m.\u001b[39mnum_labels \u001b[39m=\u001b[39m config\u001b[39m.\u001b[39mnum_labels\n\u001b[0;32m   1175\u001b[0m \u001b[39mself\u001b[39m\u001b[39m.\u001b[39mconfig \u001b[39m=\u001b[39m config\n\u001b[1;32m-> 1177\u001b[0m \u001b[39mself\u001b[39m\u001b[39m.\u001b[39mroberta \u001b[39m=\u001b[39m RobertaModel(config, add_pooling_layer\u001b[39m=\u001b[39;49m\u001b[39mFalse\u001b[39;49;00m)\n\u001b[0;32m   1178\u001b[0m \u001b[39mself\u001b[39m\u001b[39m.\u001b[39mclassifier \u001b[39m=\u001b[39m RobertaClassificationHead(config)\n\u001b[0;32m   1180\u001b[0m \u001b[39m# Initialize weights and apply final processing\u001b[39;00m\n",
      "File \u001b[1;32md:\\Programmes\\symbolik_link\\pypoetry\\Cache\\virtualenvs\\tsi-project-Fu6WFrE4-py3.10\\lib\\site-packages\\transformers\\models\\roberta\\modeling_roberta.py:722\u001b[0m, in \u001b[0;36mRobertaModel.__init__\u001b[1;34m(self, config, add_pooling_layer)\u001b[0m\n\u001b[0;32m    719\u001b[0m \u001b[39mself\u001b[39m\u001b[39m.\u001b[39mconfig \u001b[39m=\u001b[39m config\n\u001b[0;32m    721\u001b[0m \u001b[39mself\u001b[39m\u001b[39m.\u001b[39membeddings \u001b[39m=\u001b[39m RobertaEmbeddings(config)\n\u001b[1;32m--> 722\u001b[0m \u001b[39mself\u001b[39m\u001b[39m.\u001b[39mencoder \u001b[39m=\u001b[39m RobertaEncoder(config)\n\u001b[0;32m    724\u001b[0m \u001b[39mself\u001b[39m\u001b[39m.\u001b[39mpooler \u001b[39m=\u001b[39m RobertaPooler(config) \u001b[39mif\u001b[39;00m add_pooling_layer \u001b[39melse\u001b[39;00m \u001b[39mNone\u001b[39;00m\n\u001b[0;32m    726\u001b[0m \u001b[39m# Initialize weights and apply final processing\u001b[39;00m\n",
      "File \u001b[1;32md:\\Programmes\\symbolik_link\\pypoetry\\Cache\\virtualenvs\\tsi-project-Fu6WFrE4-py3.10\\lib\\site-packages\\transformers\\models\\roberta\\modeling_roberta.py:475\u001b[0m, in \u001b[0;36mRobertaEncoder.__init__\u001b[1;34m(self, config)\u001b[0m\n\u001b[0;32m    473\u001b[0m \u001b[39msuper\u001b[39m()\u001b[39m.\u001b[39m\u001b[39m__init__\u001b[39m()\n\u001b[0;32m    474\u001b[0m \u001b[39mself\u001b[39m\u001b[39m.\u001b[39mconfig \u001b[39m=\u001b[39m config\n\u001b[1;32m--> 475\u001b[0m \u001b[39mself\u001b[39m\u001b[39m.\u001b[39mlayer \u001b[39m=\u001b[39m nn\u001b[39m.\u001b[39mModuleList([RobertaLayer(config) \u001b[39mfor\u001b[39;00m _ \u001b[39min\u001b[39;00m \u001b[39mrange\u001b[39m(config\u001b[39m.\u001b[39mnum_hidden_layers)])\n\u001b[0;32m    476\u001b[0m \u001b[39mself\u001b[39m\u001b[39m.\u001b[39mgradient_checkpointing \u001b[39m=\u001b[39m \u001b[39mFalse\u001b[39;00m\n",
      "File \u001b[1;32md:\\Programmes\\symbolik_link\\pypoetry\\Cache\\virtualenvs\\tsi-project-Fu6WFrE4-py3.10\\lib\\site-packages\\transformers\\models\\roberta\\modeling_roberta.py:475\u001b[0m, in \u001b[0;36m<listcomp>\u001b[1;34m(.0)\u001b[0m\n\u001b[0;32m    473\u001b[0m \u001b[39msuper\u001b[39m()\u001b[39m.\u001b[39m\u001b[39m__init__\u001b[39m()\n\u001b[0;32m    474\u001b[0m \u001b[39mself\u001b[39m\u001b[39m.\u001b[39mconfig \u001b[39m=\u001b[39m config\n\u001b[1;32m--> 475\u001b[0m \u001b[39mself\u001b[39m\u001b[39m.\u001b[39mlayer \u001b[39m=\u001b[39m nn\u001b[39m.\u001b[39mModuleList([RobertaLayer(config) \u001b[39mfor\u001b[39;00m _ \u001b[39min\u001b[39;00m \u001b[39mrange\u001b[39m(config\u001b[39m.\u001b[39mnum_hidden_layers)])\n\u001b[0;32m    476\u001b[0m \u001b[39mself\u001b[39m\u001b[39m.\u001b[39mgradient_checkpointing \u001b[39m=\u001b[39m \u001b[39mFalse\u001b[39;00m\n",
      "File \u001b[1;32md:\\Programmes\\symbolik_link\\pypoetry\\Cache\\virtualenvs\\tsi-project-Fu6WFrE4-py3.10\\lib\\site-packages\\transformers\\models\\roberta\\modeling_roberta.py:389\u001b[0m, in \u001b[0;36mRobertaLayer.__init__\u001b[1;34m(self, config)\u001b[0m\n\u001b[0;32m    387\u001b[0m \u001b[39mself\u001b[39m\u001b[39m.\u001b[39mchunk_size_feed_forward \u001b[39m=\u001b[39m config\u001b[39m.\u001b[39mchunk_size_feed_forward\n\u001b[0;32m    388\u001b[0m \u001b[39mself\u001b[39m\u001b[39m.\u001b[39mseq_len_dim \u001b[39m=\u001b[39m \u001b[39m1\u001b[39m\n\u001b[1;32m--> 389\u001b[0m \u001b[39mself\u001b[39m\u001b[39m.\u001b[39mattention \u001b[39m=\u001b[39m RobertaAttention(config)\n\u001b[0;32m    390\u001b[0m \u001b[39mself\u001b[39m\u001b[39m.\u001b[39mis_decoder \u001b[39m=\u001b[39m config\u001b[39m.\u001b[39mis_decoder\n\u001b[0;32m    391\u001b[0m \u001b[39mself\u001b[39m\u001b[39m.\u001b[39madd_cross_attention \u001b[39m=\u001b[39m config\u001b[39m.\u001b[39madd_cross_attention\n",
      "File \u001b[1;32md:\\Programmes\\symbolik_link\\pypoetry\\Cache\\virtualenvs\\tsi-project-Fu6WFrE4-py3.10\\lib\\site-packages\\transformers\\models\\roberta\\modeling_roberta.py:306\u001b[0m, in \u001b[0;36mRobertaAttention.__init__\u001b[1;34m(self, config, position_embedding_type)\u001b[0m\n\u001b[0;32m    304\u001b[0m \u001b[39mdef\u001b[39;00m \u001b[39m__init__\u001b[39m(\u001b[39mself\u001b[39m, config, position_embedding_type\u001b[39m=\u001b[39m\u001b[39mNone\u001b[39;00m):\n\u001b[0;32m    305\u001b[0m     \u001b[39msuper\u001b[39m()\u001b[39m.\u001b[39m\u001b[39m__init__\u001b[39m()\n\u001b[1;32m--> 306\u001b[0m     \u001b[39mself\u001b[39m\u001b[39m.\u001b[39mself \u001b[39m=\u001b[39m RobertaSelfAttention(config, position_embedding_type\u001b[39m=\u001b[39;49mposition_embedding_type)\n\u001b[0;32m    307\u001b[0m     \u001b[39mself\u001b[39m\u001b[39m.\u001b[39moutput \u001b[39m=\u001b[39m RobertaSelfOutput(config)\n\u001b[0;32m    308\u001b[0m     \u001b[39mself\u001b[39m\u001b[39m.\u001b[39mpruned_heads \u001b[39m=\u001b[39m \u001b[39mset\u001b[39m()\n",
      "File \u001b[1;32md:\\Programmes\\symbolik_link\\pypoetry\\Cache\\virtualenvs\\tsi-project-Fu6WFrE4-py3.10\\lib\\site-packages\\transformers\\models\\roberta\\modeling_roberta.py:167\u001b[0m, in \u001b[0;36mRobertaSelfAttention.__init__\u001b[1;34m(self, config, position_embedding_type)\u001b[0m\n\u001b[0;32m    164\u001b[0m \u001b[39mself\u001b[39m\u001b[39m.\u001b[39mall_head_size \u001b[39m=\u001b[39m \u001b[39mself\u001b[39m\u001b[39m.\u001b[39mnum_attention_heads \u001b[39m*\u001b[39m \u001b[39mself\u001b[39m\u001b[39m.\u001b[39mattention_head_size\n\u001b[0;32m    166\u001b[0m \u001b[39mself\u001b[39m\u001b[39m.\u001b[39mquery \u001b[39m=\u001b[39m nn\u001b[39m.\u001b[39mLinear(config\u001b[39m.\u001b[39mhidden_size, \u001b[39mself\u001b[39m\u001b[39m.\u001b[39mall_head_size)\n\u001b[1;32m--> 167\u001b[0m \u001b[39mself\u001b[39m\u001b[39m.\u001b[39mkey \u001b[39m=\u001b[39m nn\u001b[39m.\u001b[39;49mLinear(config\u001b[39m.\u001b[39;49mhidden_size, \u001b[39mself\u001b[39;49m\u001b[39m.\u001b[39;49mall_head_size)\n\u001b[0;32m    168\u001b[0m \u001b[39mself\u001b[39m\u001b[39m.\u001b[39mvalue \u001b[39m=\u001b[39m nn\u001b[39m.\u001b[39mLinear(config\u001b[39m.\u001b[39mhidden_size, \u001b[39mself\u001b[39m\u001b[39m.\u001b[39mall_head_size)\n\u001b[0;32m    170\u001b[0m \u001b[39mself\u001b[39m\u001b[39m.\u001b[39mdropout \u001b[39m=\u001b[39m nn\u001b[39m.\u001b[39mDropout(config\u001b[39m.\u001b[39mattention_probs_dropout_prob)\n",
      "File \u001b[1;32md:\\Programmes\\symbolik_link\\pypoetry\\Cache\\virtualenvs\\tsi-project-Fu6WFrE4-py3.10\\lib\\site-packages\\torch\\nn\\modules\\linear.py:101\u001b[0m, in \u001b[0;36mLinear.__init__\u001b[1;34m(self, in_features, out_features, bias, device, dtype)\u001b[0m\n\u001b[0;32m     99\u001b[0m \u001b[39melse\u001b[39;00m:\n\u001b[0;32m    100\u001b[0m     \u001b[39mself\u001b[39m\u001b[39m.\u001b[39mregister_parameter(\u001b[39m'\u001b[39m\u001b[39mbias\u001b[39m\u001b[39m'\u001b[39m, \u001b[39mNone\u001b[39;00m)\n\u001b[1;32m--> 101\u001b[0m \u001b[39mself\u001b[39;49m\u001b[39m.\u001b[39;49mreset_parameters()\n",
      "File \u001b[1;32md:\\Programmes\\symbolik_link\\pypoetry\\Cache\\virtualenvs\\tsi-project-Fu6WFrE4-py3.10\\lib\\site-packages\\torch\\nn\\modules\\linear.py:107\u001b[0m, in \u001b[0;36mLinear.reset_parameters\u001b[1;34m(self)\u001b[0m\n\u001b[0;32m    103\u001b[0m \u001b[39mdef\u001b[39;00m \u001b[39mreset_parameters\u001b[39m(\u001b[39mself\u001b[39m) \u001b[39m-\u001b[39m\u001b[39m>\u001b[39m \u001b[39mNone\u001b[39;00m:\n\u001b[0;32m    104\u001b[0m     \u001b[39m# Setting a=sqrt(5) in kaiming_uniform is the same as initializing with\u001b[39;00m\n\u001b[0;32m    105\u001b[0m     \u001b[39m# uniform(-1/sqrt(in_features), 1/sqrt(in_features)). For details, see\u001b[39;00m\n\u001b[0;32m    106\u001b[0m     \u001b[39m# https://github.com/pytorch/pytorch/issues/57109\u001b[39;00m\n\u001b[1;32m--> 107\u001b[0m     init\u001b[39m.\u001b[39;49mkaiming_uniform_(\u001b[39mself\u001b[39;49m\u001b[39m.\u001b[39;49mweight, a\u001b[39m=\u001b[39;49mmath\u001b[39m.\u001b[39;49msqrt(\u001b[39m5\u001b[39;49m))\n\u001b[0;32m    108\u001b[0m     \u001b[39mif\u001b[39;00m \u001b[39mself\u001b[39m\u001b[39m.\u001b[39mbias \u001b[39mis\u001b[39;00m \u001b[39mnot\u001b[39;00m \u001b[39mNone\u001b[39;00m:\n\u001b[0;32m    109\u001b[0m         fan_in, _ \u001b[39m=\u001b[39m init\u001b[39m.\u001b[39m_calculate_fan_in_and_fan_out(\u001b[39mself\u001b[39m\u001b[39m.\u001b[39mweight)\n",
      "File \u001b[1;32md:\\Programmes\\symbolik_link\\pypoetry\\Cache\\virtualenvs\\tsi-project-Fu6WFrE4-py3.10\\lib\\site-packages\\torch\\nn\\init.py:412\u001b[0m, in \u001b[0;36mkaiming_uniform_\u001b[1;34m(tensor, a, mode, nonlinearity)\u001b[0m\n\u001b[0;32m    410\u001b[0m bound \u001b[39m=\u001b[39m math\u001b[39m.\u001b[39msqrt(\u001b[39m3.0\u001b[39m) \u001b[39m*\u001b[39m std  \u001b[39m# Calculate uniform bounds from standard deviation\u001b[39;00m\n\u001b[0;32m    411\u001b[0m \u001b[39mwith\u001b[39;00m torch\u001b[39m.\u001b[39mno_grad():\n\u001b[1;32m--> 412\u001b[0m     \u001b[39mreturn\u001b[39;00m tensor\u001b[39m.\u001b[39;49muniform_(\u001b[39m-\u001b[39;49mbound, bound)\n",
      "\u001b[1;31mKeyboardInterrupt\u001b[0m: "
     ]
    }
   ],
   "source": [
    "# à faire tourner si on a le temps :)\n",
    "for task in tasks:\n",
    "    print(\"task =\", task)\n",
    "    for data_set in [\"test\", \"train\", \"validation\"]:\n",
    "        error_analysis_specific_set(task, data_set, nb_sample=2, display=\"no\")  # à faire quand on aura le temps\n",
    "    print(\"\")"
   ]
  }
 ],
 "metadata": {
  "kernelspec": {
   "display_name": "Python 3 (ipykernel)",
   "language": "python",
   "name": "python3"
  },
  "language_info": {
   "codemirror_mode": {
    "name": "ipython",
    "version": 3
   },
   "file_extension": ".py",
   "mimetype": "text/x-python",
   "name": "python",
   "nbconvert_exporter": "python",
   "pygments_lexer": "ipython3",
   "version": "3.10.5"
  }
 },
 "nbformat": 4,
 "nbformat_minor": 5
}
