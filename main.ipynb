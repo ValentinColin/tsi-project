{
 "cells": [
  {
   "cell_type": "markdown",
   "id": "2d387005-de14-4573-bbb8-837fc50bfd73",
   "metadata": {},
   "source": [
    "# TSI Project: Automated Social Media Data Collection and Analysis\n",
    "\n",
    "Teacher: Dr.sc.ing. Dmitry Pavlyuk\n",
    "\n",
    "Date: 13/02/2023 -> ??/04/2023\n",
    "\n",
    "### Students\n",
    "\n",
    "- Valentin Colin\n",
    "- Marc Partensky\n",
    "- Maxime Popot--Chapuis\n",
    "- Hugues Rubin\n",
    "- Jules Meszaros\n",
    "- Lucas Manic"
   ]
  },
  {
   "cell_type": "markdown",
   "id": "b017b76d-a813-429d-a80f-1e24897eac4c",
   "metadata": {},
   "source": [
    "## INTRODUCTION. \n",
    "Formulation of goals and objectives of a project in the chosen field\n",
    "\n",
    "## STATE OF THE ART.\n",
    "Reviewing modern approaches to solving the stated problem\n",
    "\n",
    "## PROPOSED SOLUTION.\n",
    "Description of idea and theoretical base of selected approach (method, algorithm, framework, technology) to solving the stated problem\n",
    "\n",
    "## DESIGN AND IMPLEMENTATION OF THE PROPOSED SOLUTION.\n",
    "Structure of software (or/and hardware) solution to solving the stated problem\n",
    "\n",
    "## RESULTS, LIMITATIONS AND SUGGESTIONS. \n",
    "Discussion of obtained results, and the borders of proposed approach applicability\n",
    "\n",
    "## CONCLUSIONS AND FUTURE WORK.\n",
    "Main conclusions of the project\n",
    "\n",
    "## REFERENCES"
   ]
  },
  {
   "cell_type": "markdown",
   "id": "7523904c-71d0-437a-987e-01df68d854e1",
   "metadata": {},
   "source": [
    "## Code"
   ]
  },
  {
   "cell_type": "code",
   "execution_count": 4,
   "id": "c3384b4c-635a-4896-ad5f-cd2f92fa8a6a",
   "metadata": {
    "tags": []
   },
   "outputs": [],
   "source": [
    "# Import system lib\n",
    "import sys, os\n",
    "\n",
    "# Import third-party lib\n",
    "import numpy"
   ]
  },
  {
   "cell_type": "code",
   "execution_count": null,
   "id": "43fc0123-6372-4b9d-9262-84f0e378da62",
   "metadata": {},
   "outputs": [],
   "source": [
    "# ... code here ..."
   ]
  }
 ],
 "metadata": {
  "kernelspec": {
   "display_name": "Python 3 (ipykernel)",
   "language": "python",
   "name": "python3"
  },
  "language_info": {
   "codemirror_mode": {
    "name": "ipython",
    "version": 3
   },
   "file_extension": ".py",
   "mimetype": "text/x-python",
   "name": "python",
   "nbconvert_exporter": "python",
   "pygments_lexer": "ipython3",
   "version": "3.11.1"
  }
 },
 "nbformat": 4,
 "nbformat_minor": 5
}
