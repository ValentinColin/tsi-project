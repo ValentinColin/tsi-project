{
 "cells": [
  {
   "cell_type": "markdown",
   "id": "a5e2fa5e-3e3e-4b98-8730-7af1153228c4",
   "metadata": {},
   "source": [
    "# Twitter API"
   ]
  },
  {
   "cell_type": "code",
   "execution_count": 2,
   "id": "b46e42a9-948a-406f-a5fe-533c6f4eff68",
   "metadata": {
    "tags": []
   },
   "outputs": [],
   "source": [
    "import snscrape.modules.twitter as sntwitter\n",
    "import pandas as pd"
   ]
  },
  {
   "cell_type": "code",
   "execution_count": 3,
   "id": "dcbd5456-61d4-4dcd-8c4e-4b42564e9d57",
   "metadata": {
    "tags": []
   },
   "outputs": [],
   "source": [
    "query = \"(from:ZemmourEric) until:2023-03-08 since:2022-01-01\"\n",
    "tweets = []\n",
    "limit = 10"
   ]
  },
  {
   "cell_type": "code",
   "execution_count": 4,
   "id": "96e1f562-913b-44d0-a43b-1c4b7e0a9160",
   "metadata": {
    "tags": []
   },
   "outputs": [
    {
     "name": "stdout",
     "output_type": "stream",
     "text": [
      "Mettre l'économie à genoux, c'est détruire le travail, c'est détruire le pays. C'est leur objectif. Et ils n'en ont même pas honte.\n",
      "\n",
      "https://t.co/7GrgoiZrdA\n"
     ]
    }
   ],
   "source": [
    "for tweet in sntwitter.TwitterSearchScraper(query).get_items():\n",
    "    if len(tweets) == limit:\n",
    "        break\n",
    "    else:\n",
    "        tweets.append([tweet.date, tweet.user.username, tweet.rawContent])\n",
    "        \n",
    "print(tweets[2][2])"
   ]
  },
  {
   "cell_type": "markdown",
   "id": "5578544e-3224-47fe-a3f2-c85533cc28cb",
   "metadata": {
    "tags": []
   },
   "source": [
    "# Roberta Twitter Analysis (2022)"
   ]
  },
  {
   "cell_type": "markdown",
   "id": "bc016009-ec63-4176-b439-42b1c66cf785",
   "metadata": {},
   "source": [
    "## Start"
   ]
  },
  {
   "cell_type": "markdown",
   "id": "6360d3d0-1f0e-4794-9f8d-825846cf0e76",
   "metadata": {},
   "source": [
    "### Setting the admin mod"
   ]
  },
  {
   "cell_type": "markdown",
   "id": "99862a26-11e2-496f-bbd5-9c2618688fb2",
   "metadata": {},
   "source": [
    "source : https://huggingface.co/cardiffnlp/twitter-roberta-base-sentiment"
   ]
  },
  {
   "cell_type": "code",
   "execution_count": 5,
   "id": "5a12e7df-929a-42c9-99e7-401a445843a5",
   "metadata": {
    "tags": []
   },
   "outputs": [
    {
     "name": "stdout",
     "output_type": "stream",
     "text": [
      "Re-launching as admin!\n"
     ]
    }
   ],
   "source": [
    "import pyuac\n",
    "\n",
    "def main():\n",
    "    print(\"Do stuff here that requires being run as an admin.\")\n",
    "    # The window will disappear as soon as the program exits!\n",
    "    input(\"Press enter to close the window. >\")\n",
    "\n",
    "if __name__ == \"__main__\":\n",
    "    if not pyuac.isUserAdmin():\n",
    "        print(\"Re-launching as admin!\")\n",
    "        pyuac.runAsAdmin()\n",
    "    else:        \n",
    "        main()"
   ]
  },
  {
   "cell_type": "markdown",
   "id": "4dbee2ba-e82e-4a52-ae3b-1def35417185",
   "metadata": {},
   "source": [
    "### Import"
   ]
  },
  {
   "cell_type": "markdown",
   "id": "f666a4b2-2afe-4f5f-8157-47a14ce1653d",
   "metadata": {},
   "source": [
    "#### Model"
   ]
  },
  {
   "cell_type": "code",
   "execution_count": 6,
   "id": "0cf29ef5-e2a0-443e-ae45-e4e8f48fc65f",
   "metadata": {
    "tags": []
   },
   "outputs": [],
   "source": [
    "from transformers import AutoModelForSequenceClassification\n",
    "from transformers import TFAutoModelForSequenceClassification\n",
    "from transformers import AutoTokenizer, AutoConfig\n",
    "import numpy as np\n",
    "from scipy.special import softmax"
   ]
  },
  {
   "cell_type": "markdown",
   "id": "26a40166-3875-4770-a136-966e6e594d12",
   "metadata": {},
   "source": [
    "## Process"
   ]
  },
  {
   "cell_type": "markdown",
   "id": "ee0bf319-df69-4fa4-9d6c-5a918ea4800e",
   "metadata": {},
   "source": [
    "## Preprocess"
   ]
  },
  {
   "cell_type": "code",
   "execution_count": 7,
   "id": "3e3c0bb5-f842-4be5-bee5-ff54c228a1e6",
   "metadata": {
    "tags": []
   },
   "outputs": [],
   "source": [
    "# Preprocess text (username and link placeholders)\n",
    "\n",
    "def preprocess(text):\n",
    "    new_text = []\n",
    "    for t in text.split(\" \"):\n",
    "        t = '@user' if t.startswith('@') and len(t) > 1 else t\n",
    "        t = 'http' if t.startswith('http') else t\n",
    "        new_text.append(t)\n",
    "    return \" \".join(new_text)"
   ]
  },
  {
   "cell_type": "code",
   "execution_count": 8,
   "id": "680ce8db-2b36-4c18-beba-9f6da94e125a",
   "metadata": {
    "tags": []
   },
   "outputs": [
    {
     "name": "stdout",
     "output_type": "stream",
     "text": [
      "Bravo à eux. Le dialogue entre les jeunes de droite est la première étape avant l’union des droites.\n",
      "@MagLincorrect https://t.co/Oj1ysohqBX\n",
      "Mettre l'économie à genoux, c'est détruire le travail, c'est détruire le pays. C'est leur objectif. Et ils n'en ont même pas honte.\n",
      "\n",
      "https://t.co/7GrgoiZrdA\n"
     ]
    }
   ],
   "source": [
    "tweets_preprocessed = []\n",
    "for tweet in tweets:\n",
    "    preprocess_tweet = preprocess(tweet[2])\n",
    "    tweets_preprocessed.append(preprocess_tweet)\n",
    "\n",
    "print(pos_tweet := tweets[5][2]) # positif\n",
    "print(neg_tweet := tweets[2][2]) # négatif"
   ]
  },
  {
   "cell_type": "markdown",
   "id": "c710fea0-7ab4-4b69-b75c-ec74c53f87fe",
   "metadata": {},
   "source": [
    "### Initialize Model"
   ]
  },
  {
   "cell_type": "code",
   "execution_count": 9,
   "id": "985ce64f-2460-4ed8-83f4-6b15bd946aad",
   "metadata": {
    "tags": []
   },
   "outputs": [
    {
     "data": {
      "text/plain": [
       "('cardiffnlp/twitter-roberta-base-sentiment-latest\\\\tokenizer_config.json',\n",
       " 'cardiffnlp/twitter-roberta-base-sentiment-latest\\\\special_tokens_map.json',\n",
       " 'cardiffnlp/twitter-roberta-base-sentiment-latest\\\\vocab.json',\n",
       " 'cardiffnlp/twitter-roberta-base-sentiment-latest\\\\merges.txt',\n",
       " 'cardiffnlp/twitter-roberta-base-sentiment-latest\\\\added_tokens.json',\n",
       " 'cardiffnlp/twitter-roberta-base-sentiment-latest\\\\tokenizer.json')"
      ]
     },
     "execution_count": 9,
     "metadata": {},
     "output_type": "execute_result"
    }
   ],
   "source": [
    "MODEL = f\"cardiffnlp/twitter-roberta-base-sentiment-latest\" # path des jsons précédents\n",
    "tokenizer = AutoTokenizer.from_pretrained(MODEL)\n",
    "config = AutoConfig.from_pretrained(MODEL)\n",
    "# PT\n",
    "model = AutoModelForSequenceClassification.from_pretrained(MODEL)\n",
    "model.save_pretrained(MODEL)\n",
    "tokenizer.save_pretrained(MODEL)"
   ]
  },
  {
   "cell_type": "code",
   "execution_count": 10,
   "id": "f6b4343e-d7ac-4897-b778-5acbd68581e1",
   "metadata": {
    "tags": []
   },
   "outputs": [
    {
     "name": "stdout",
     "output_type": "stream",
     "text": [
      "1) positive 0.9838\n",
      "2) neutral 0.0112\n",
      "3) negative 0.0049\n"
     ]
    }
   ],
   "source": [
    "text = \"I love my wife !\"\n",
    "text = preprocess(text)\n",
    "encoded_input = tokenizer(text, return_tensors='pt')\n",
    "output = model(**encoded_input)\n",
    "scores = output[0][0].detach().numpy()\n",
    "scores = softmax(scores)\n",
    "\n",
    "# Print labels and scores\n",
    "ranking = np.argsort(scores)\n",
    "ranking = ranking[::-1]\n",
    "for i in range(scores.shape[0]):\n",
    "    l = config.id2label[ranking[i]]\n",
    "    s = scores[ranking[i]]\n",
    "    print(f\"{i+1}) {l} {np.round(float(s), 4)}\")"
   ]
  },
  {
   "cell_type": "code",
   "execution_count": 11,
   "id": "c13ca5f5-aa5f-4555-8c35-38955b5ec3a7",
   "metadata": {
    "tags": []
   },
   "outputs": [
    {
     "name": "stdout",
     "output_type": "stream",
     "text": [
      "1) negative 0.9249\n",
      "2) neutral 0.0624\n",
      "3) positive 0.0127\n"
     ]
    }
   ],
   "source": [
    "text = \"I hate my wife !\"\n",
    "text = preprocess(text)\n",
    "encoded_input = tokenizer(text, return_tensors='pt')\n",
    "output = model(**encoded_input)\n",
    "scores = output[0][0].detach().numpy()\n",
    "scores = softmax(scores)\n",
    "\n",
    "# Print labels and scores\n",
    "ranking = np.argsort(scores)\n",
    "ranking = ranking[::-1]\n",
    "for i in range(scores.shape[0]):\n",
    "    l = config.id2label[ranking[i]]\n",
    "    s = scores[ranking[i]]\n",
    "    print(f\"{i+1}) {l} {np.round(float(s), 4)}\")"
   ]
  },
  {
   "cell_type": "code",
   "execution_count": 19,
   "id": "876d7d59-6fa9-4fee-a554-d187be210999",
   "metadata": {
    "tags": []
   },
   "outputs": [
    {
     "name": "stdout",
     "output_type": "stream",
     "text": [
      "1) negative 0.736\n",
      "2) neutral 0.2322\n",
      "3) positive 0.0318\n"
     ]
    }
   ],
   "source": [
    "text = \"We all lost\"\n",
    "text = preprocess(text)\n",
    "encoded_input = tokenizer(text, return_tensors='pt')\n",
    "output = model(**encoded_input)\n",
    "scores = output[0][0].detach().numpy()\n",
    "scores = softmax(scores)\n",
    "# # TF\n",
    "# model = TFAutoModelForSequenceClassification.from_pretrained(MODEL)\n",
    "# model.save_pretrained(MODEL)\n",
    "# text = \"Covid cases are increasing fast!\"\n",
    "# encoded_input = tokenizer(text, return_tensors='tf')\n",
    "# output = model(encoded_input)\n",
    "# scores = output[0][0].numpy()\n",
    "# scores = softmax(scores)\n",
    "# Print labels and scores\n",
    "ranking = np.argsort(scores)\n",
    "ranking = ranking[::-1]\n",
    "for i in range(scores.shape[0]):\n",
    "    l = config.id2label[ranking[i]]\n",
    "    s = scores[ranking[i]]\n",
    "    print(f\"{i+1}) {l} {np.round(float(s), 4)}\")\n"
   ]
  }
 ],
 "metadata": {
  "kernelspec": {
   "display_name": "Python 3 (ipykernel)",
   "language": "python",
   "name": "python3"
  },
  "language_info": {
   "codemirror_mode": {
    "name": "ipython",
    "version": 3
   },
   "file_extension": ".py",
   "mimetype": "text/x-python",
   "name": "python",
   "nbconvert_exporter": "python",
   "pygments_lexer": "ipython3",
   "version": "3.8.9"
  }
 },
 "nbformat": 4,
 "nbformat_minor": 5
}
